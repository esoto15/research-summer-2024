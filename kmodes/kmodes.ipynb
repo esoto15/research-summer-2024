{
 "cells": [
  {
   "cell_type": "code",
   "execution_count": 6,
   "metadata": {},
   "outputs": [
    {
     "name": "stdout",
     "output_type": "stream",
     "text": [
      "Requirement already satisfied: kmodes in c:\\users\\owner\\appdata\\local\\programs\\python\\python310\\lib\\site-packages (0.12.2)\n",
      "Requirement already satisfied: numpy>=1.10.4 in c:\\users\\owner\\appdata\\local\\programs\\python\\python310\\lib\\site-packages (from kmodes) (1.25.2)\n",
      "Requirement already satisfied: scikit-learn>=0.22.0 in c:\\users\\owner\\appdata\\local\\programs\\python\\python310\\lib\\site-packages (from kmodes) (1.3.0)\n",
      "Requirement already satisfied: scipy>=0.13.3 in c:\\users\\owner\\appdata\\local\\programs\\python\\python310\\lib\\site-packages (from kmodes) (1.11.2)\n",
      "Requirement already satisfied: joblib>=0.11 in c:\\users\\owner\\appdata\\local\\programs\\python\\python310\\lib\\site-packages (from kmodes) (1.3.2)\n",
      "Requirement already satisfied: threadpoolctl>=2.0.0 in c:\\users\\owner\\appdata\\local\\programs\\python\\python310\\lib\\site-packages (from scikit-learn>=0.22.0->kmodes) (3.2.0)\n",
      "Note: you may need to restart the kernel to use updated packages.\n"
     ]
    },
    {
     "name": "stderr",
     "output_type": "stream",
     "text": [
      "\n",
      "[notice] A new release of pip is available: 23.3.2 -> 24.2\n",
      "[notice] To update, run: python.exe -m pip install --upgrade pip\n"
     ]
    }
   ],
   "source": [
    "pip install kmodes"
   ]
  },
  {
   "cell_type": "code",
   "execution_count": 7,
   "metadata": {},
   "outputs": [],
   "source": [
    "import pandas as pd\n",
    "from kmodes.kmodes import KModes"
   ]
  },
  {
   "cell_type": "code",
   "execution_count": 8,
   "metadata": {},
   "outputs": [],
   "source": [
    "df = pd.read_excel('..\\datasets\\FoodInsecurity_Hispanic_Demographics_Tone_Preferences_Dataset.xlsx')"
   ]
  },
  {
   "cell_type": "code",
   "execution_count": 9,
   "metadata": {},
   "outputs": [
    {
     "data": {
      "text/html": [
       "<div>\n",
       "<style scoped>\n",
       "    .dataframe tbody tr th:only-of-type {\n",
       "        vertical-align: middle;\n",
       "    }\n",
       "\n",
       "    .dataframe tbody tr th {\n",
       "        vertical-align: top;\n",
       "    }\n",
       "\n",
       "    .dataframe thead th {\n",
       "        text-align: right;\n",
       "    }\n",
       "</style>\n",
       "<table border=\"1\" class=\"dataframe\">\n",
       "  <thead>\n",
       "    <tr style=\"text-align: right;\">\n",
       "      <th></th>\n",
       "      <th>age</th>\n",
       "      <th>gender</th>\n",
       "      <th>ethnicity</th>\n",
       "      <th>race</th>\n",
       "      <th>education</th>\n",
       "      <th>marital_status</th>\n",
       "      <th>income</th>\n",
       "      <th>employment</th>\n",
       "      <th>language</th>\n",
       "      <th>disability</th>\n",
       "      <th>states</th>\n",
       "      <th>sample_1</th>\n",
       "      <th>sample_2</th>\n",
       "      <th>sample_3</th>\n",
       "      <th>sample_4</th>\n",
       "      <th>sample_5</th>\n",
       "      <th>sample_6</th>\n",
       "      <th>sample_7</th>\n",
       "      <th>sample_8</th>\n",
       "    </tr>\n",
       "  </thead>\n",
       "  <tbody>\n",
       "    <tr>\n",
       "      <th>0</th>\n",
       "      <td>45-54</td>\n",
       "      <td>female</td>\n",
       "      <td>non hispanic</td>\n",
       "      <td>native american</td>\n",
       "      <td>High School</td>\n",
       "      <td>na</td>\n",
       "      <td>$25,000 - $49,999</td>\n",
       "      <td>Employed Part time</td>\n",
       "      <td>both</td>\n",
       "      <td>i do not have a disability</td>\n",
       "      <td>indiana</td>\n",
       "      <td>Persuasive</td>\n",
       "      <td>Simplier</td>\n",
       "      <td>Empathetic</td>\n",
       "      <td>Persuasive</td>\n",
       "      <td>Original</td>\n",
       "      <td>Original</td>\n",
       "      <td>Persuasive</td>\n",
       "      <td>Original</td>\n",
       "    </tr>\n",
       "    <tr>\n",
       "      <th>1</th>\n",
       "      <td>18-24</td>\n",
       "      <td>male</td>\n",
       "      <td>hispanic</td>\n",
       "      <td>white</td>\n",
       "      <td>High School</td>\n",
       "      <td>single</td>\n",
       "      <td>Less than $25,000</td>\n",
       "      <td>Employed Part time</td>\n",
       "      <td>english</td>\n",
       "      <td>i do not have a disability</td>\n",
       "      <td>illinois</td>\n",
       "      <td>Original</td>\n",
       "      <td>Simplier</td>\n",
       "      <td>Empathetic</td>\n",
       "      <td>Simplier</td>\n",
       "      <td>Simplier</td>\n",
       "      <td>Original</td>\n",
       "      <td>Original</td>\n",
       "      <td>Persuasive</td>\n",
       "    </tr>\n",
       "  </tbody>\n",
       "</table>\n",
       "</div>"
      ],
      "text/plain": [
       "     age  gender     ethnicity             race    education marital_status  \\\n",
       "0  45-54  female  non hispanic  native american  High School             na   \n",
       "1  18-24    male      hispanic            white  High School         single   \n",
       "\n",
       "              income          employment language                  disability  \\\n",
       "0  $25,000 - $49,999  Employed Part time     both  i do not have a disability   \n",
       "1  Less than $25,000  Employed Part time  english  i do not have a disability   \n",
       "\n",
       "     states    sample_1  sample_2    sample_3    sample_4  sample_5  sample_6  \\\n",
       "0   indiana  Persuasive  Simplier  Empathetic  Persuasive  Original  Original   \n",
       "1  illinois    Original  Simplier  Empathetic    Simplier  Simplier  Original   \n",
       "\n",
       "     sample_7    sample_8  \n",
       "0  Persuasive    Original  \n",
       "1    Original  Persuasive  "
      ]
     },
     "execution_count": 9,
     "metadata": {},
     "output_type": "execute_result"
    }
   ],
   "source": [
    "df.head(2)"
   ]
  },
  {
   "cell_type": "code",
   "execution_count": 10,
   "metadata": {},
   "outputs": [],
   "source": [
    "data = df[['age','marital_status', 'employment']]"
   ]
  },
  {
   "cell_type": "code",
   "execution_count": 36,
   "metadata": {},
   "outputs": [
    {
     "name": "stdout",
     "output_type": "stream",
     "text": [
      "Init: initializing centroids\n",
      "Init: initializing clusters\n",
      "Starting iterations...\n",
      "Run 1, iteration: 1/100, moves: 32, cost: 288.0\n",
      "Init: initializing centroids\n",
      "Init: initializing clusters\n",
      "Starting iterations...\n",
      "Run 2, iteration: 1/100, moves: 48, cost: 232.0\n",
      "Init: initializing centroids\n",
      "Init: initializing clusters\n",
      "Starting iterations...\n",
      "Run 3, iteration: 1/100, moves: 0, cost: 224.0\n",
      "Init: initializing centroids\n",
      "Init: initializing clusters\n",
      "Starting iterations...\n",
      "Run 4, iteration: 1/100, moves: 56, cost: 248.0\n",
      "Init: initializing centroids\n",
      "Init: initializing clusters\n",
      "Starting iterations...\n",
      "Run 5, iteration: 1/100, moves: 16, cost: 272.0\n",
      "Best run was number 3\n",
      "     Cluster    age                  disability    education  \\\n",
      "0          7  45-54  i do not have a disability  High School   \n",
      "1          4  18-24  i do not have a disability  High School   \n",
      "2          1  25-34  i do not have a disability    Associate   \n",
      "3          1  25-34  i do not have a disability    Associate   \n",
      "4          1  18-24                          na     Bachelor   \n",
      "..       ...    ...                         ...          ...   \n",
      "395        0     na  i do not have a disability    Associate   \n",
      "396        1  25-34  i do not have a disability    Associate   \n",
      "397        1  25-34  i do not have a disability     Bachelor   \n",
      "398        1  25-34  i do not have a disability     Bachelor   \n",
      "399        5  25-34  i do not have a disability     Bachelor   \n",
      "\n",
      "             employment     ethnicity  gender             income language  \\\n",
      "0    Employed Part time  non hispanic  female  $25,000 - $49,999     both   \n",
      "1    Employed Part time      hispanic    male  Less than $25,000  english   \n",
      "2               Student  non hispanic  female  Less than $25,000  english   \n",
      "3    Employed Part time      hispanic  female  Less than $25,000     both   \n",
      "4               Student      hispanic    male  $25,000 - $49,999     both   \n",
      "..                  ...           ...     ...                ...      ...   \n",
      "395  Employed Full time  non hispanic  female  Less than $25,000  english   \n",
      "396       Self employed  non hispanic    male  $25,000 - $49,999  english   \n",
      "397             Student      hispanic  female                 na     both   \n",
      "398  Employed Part time  non hispanic    male  $50,000 - $74,999     both   \n",
      "399  Employed Full time  non hispanic    male  $50,000 - $74,999  english   \n",
      "\n",
      "    marital_status             race      states        tone  \n",
      "0               na  native american     indiana  Persuasive  \n",
      "1           single            white    illinois    Original  \n",
      "2           single      multiracial    new York    Original  \n",
      "3           single               na    illinois  Empathetic  \n",
      "4           single  native american    illinois  Empathetic  \n",
      "..             ...              ...         ...         ...  \n",
      "395        married            black  new jersey  Empathetic  \n",
      "396         single            white          na  Persuasive  \n",
      "397         single            white  california    Simplier  \n",
      "398         single            black  new jersey  Persuasive  \n",
      "399        married            black    illinois  Persuasive  \n",
      "\n",
      "[400 rows x 13 columns]\n"
     ]
    }
   ],
   "source": [
    "# Import necessary libraries\n",
    "import pandas as pd\n",
    "from kmodes.kmodes import KModes\n",
    "\n",
    "# Load your demographic data\n",
    "# Consider using only relevant categorical columns\n",
    "categorical_data = data[['age', 'marital_status', 'employment']]  # Adjust as needed\n",
    "\n",
    "# Set the number of clusters\n",
    "num_clusters = 10  # Choose a suitable number based on your analysis\n",
    "\n",
    "# Perform K-Modes clustering\n",
    "kmodes = KModes(n_clusters=num_clusters, init='Huang', n_init=5, verbose=1)\n",
    "clusters = kmodes.fit_predict(categorical_data)\n",
    "\n",
    "# Add cluster labels to the original data\n",
    "data['Cluster'] = clusters\n",
    "\n",
    "# View the clustered data\n",
    "print(data)"
   ]
  },
  {
   "cell_type": "markdown",
   "metadata": {},
   "source": [
    "data.head(2)"
   ]
  },
  {
   "cell_type": "code",
   "execution_count": 38,
   "metadata": {},
   "outputs": [],
   "source": [
    "data.to_excel('data_clustered.xlsx', index=False)"
   ]
  },
  {
   "cell_type": "code",
   "execution_count": 39,
   "metadata": {},
   "outputs": [],
   "source": [
    "data = pd.read_excel('kmodes-clustered.xlsx')"
   ]
  },
  {
   "cell_type": "code",
   "execution_count": 40,
   "metadata": {},
   "outputs": [],
   "source": [
    "# List of columns to plot\n",
    "columns_to_plot = ['age', 'disability', 'education', 'employment', 'ethnicity', 'gender', 'income', 'language', 'marital_status', 'race', 'tone']"
   ]
  },
  {
   "cell_type": "code",
   "execution_count": 41,
   "metadata": {},
   "outputs": [],
   "source": [
    "import matplotlib.pyplot as plt\n"
   ]
  },
  {
   "cell_type": "code",
   "execution_count": 42,
   "metadata": {},
   "outputs": [
    {
     "data": {
      "text/plain": [
       "Index(['Cluster', 'age', 'disability', 'education', 'employment', 'ethnicity',\n",
       "       'gender', 'income', 'language', 'marital_status', 'race', 'states',\n",
       "       'tone'],\n",
       "      dtype='object')"
      ]
     },
     "execution_count": 42,
     "metadata": {},
     "output_type": "execute_result"
    }
   ],
   "source": [
    "data.columns"
   ]
  },
  {
   "cell_type": "code",
   "execution_count": 43,
   "metadata": {},
   "outputs": [],
   "source": [
    "# Number of columns and rows for the subplots grid\n",
    "n_cols = 3\n",
    "n_rows = (len(columns_to_plot) + n_cols - 1) // n_cols  # Calculate number of rows needed\n",
    "\n",
    "# Create a figure and axes for subplots\n",
    "fig, axes = plt.subplots(n_rows, n_cols, figsize=(20, 5 * n_rows))\n",
    "\n",
    "# Flatten the axes array for easy indexing\n",
    "axes = axes.flatten()\n",
    "\n",
    "# Generate stacked bar charts for each column\n",
    "for idx, column in enumerate(columns_to_plot):\n",
    "    # Aggregate data for the given column\n",
    "    cluster_option_counts = data.groupby(['Cluster', column]).size().unstack(fill_value=0)\n",
    "    \n",
    "    # Plotting the stacked bar chart on the corresponding subplot\n",
    "    ax = cluster_option_counts.plot(kind='bar', stacked=True, ax=axes[idx])\n",
    "    \n",
    "    # Add labels and title\n",
    "    ax.set_xlabel('Cluster')\n",
    "    ax.set_ylabel('Count')\n",
    "    ax.set_title(f'Counts of {column.capitalize()} by Cluster')\n",
    "    ax.legend(title=column.capitalize(), bbox_to_anchor=(1.05, 1), loc='upper left')\n",
    "    \n",
    "    # Adjust layout for the subplot\n",
    "    plt.tight_layout()\n",
    "\n",
    "# Remove any unused axes\n",
    "for j in range(idx + 1, len(axes)):\n",
    "    fig.delaxes(axes[j])\n",
    "\n",
    "# Show all plots\n",
    "plt.show()"
   ]
  },
  {
   "cell_type": "code",
   "execution_count": null,
   "metadata": {},
   "outputs": [],
   "source": []
  }
 ],
 "metadata": {
  "kernelspec": {
   "display_name": "Python 3",
   "language": "python",
   "name": "python3"
  },
  "language_info": {
   "codemirror_mode": {
    "name": "ipython",
    "version": 3
   },
   "file_extension": ".py",
   "mimetype": "text/x-python",
   "name": "python",
   "nbconvert_exporter": "python",
   "pygments_lexer": "ipython3",
   "version": "3.10.0"
  }
 },
 "nbformat": 4,
 "nbformat_minor": 2
}
