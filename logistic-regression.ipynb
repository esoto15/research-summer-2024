{
 "cells": [
  {
   "cell_type": "code",
   "execution_count": 22,
   "metadata": {},
   "outputs": [],
   "source": [
    "import pandas as pd\n",
    "import numpy as np\n",
    "from sklearn.ensemble import RandomForestClassifier\n",
    "from sklearn.model_selection import train_test_split\n",
    "from sklearn.metrics import classification_report\n",
    "from sklearn.model_selection import cross_val_score"
   ]
  },
  {
   "cell_type": "code",
   "execution_count": 23,
   "metadata": {},
   "outputs": [],
   "source": [
    "data = pd.read_excel('datasets/pca-graphs.xlsx')\n",
    "tones = data['tone']\n",
    "encoded_data = data.copy()\n",
    "encoded_data = encoded_data.drop(['tone'], axis=1)\n",
    "encoded_data = pd.get_dummies(data)"
   ]
  },
  {
   "cell_type": "code",
   "execution_count": 26,
   "metadata": {},
   "outputs": [
    {
     "data": {
      "text/html": [
       "<div>\n",
       "<style scoped>\n",
       "    .dataframe tbody tr th:only-of-type {\n",
       "        vertical-align: middle;\n",
       "    }\n",
       "\n",
       "    .dataframe tbody tr th {\n",
       "        vertical-align: top;\n",
       "    }\n",
       "\n",
       "    .dataframe thead th {\n",
       "        text-align: right;\n",
       "    }\n",
       "</style>\n",
       "<table border=\"1\" class=\"dataframe\">\n",
       "  <thead>\n",
       "    <tr style=\"text-align: right;\">\n",
       "      <th></th>\n",
       "      <th>Cluster</th>\n",
       "      <th>age</th>\n",
       "      <th>disability</th>\n",
       "      <th>education</th>\n",
       "      <th>employment</th>\n",
       "      <th>ethnicity</th>\n",
       "      <th>gender</th>\n",
       "      <th>income</th>\n",
       "      <th>language</th>\n",
       "      <th>marital_status</th>\n",
       "      <th>race</th>\n",
       "      <th>states</th>\n",
       "      <th>tone</th>\n",
       "    </tr>\n",
       "  </thead>\n",
       "  <tbody>\n",
       "    <tr>\n",
       "      <th>0</th>\n",
       "      <td>8</td>\n",
       "      <td>45-54</td>\n",
       "      <td>i do not have a disability</td>\n",
       "      <td>High School</td>\n",
       "      <td>Employed Part time</td>\n",
       "      <td>non hispanic</td>\n",
       "      <td>female</td>\n",
       "      <td>$25,000 - $49,999</td>\n",
       "      <td>both</td>\n",
       "      <td>na</td>\n",
       "      <td>native american</td>\n",
       "      <td>indiana</td>\n",
       "      <td>Persuasive</td>\n",
       "    </tr>\n",
       "    <tr>\n",
       "      <th>1</th>\n",
       "      <td>6</td>\n",
       "      <td>18-24</td>\n",
       "      <td>i do not have a disability</td>\n",
       "      <td>High School</td>\n",
       "      <td>Employed Part time</td>\n",
       "      <td>hispanic</td>\n",
       "      <td>male</td>\n",
       "      <td>Less than $25,000</td>\n",
       "      <td>english</td>\n",
       "      <td>single</td>\n",
       "      <td>white</td>\n",
       "      <td>illinois</td>\n",
       "      <td>Original</td>\n",
       "    </tr>\n",
       "  </tbody>\n",
       "</table>\n",
       "</div>"
      ],
      "text/plain": [
       "   Cluster    age                  disability    education  \\\n",
       "0        8  45-54  i do not have a disability  High School   \n",
       "1        6  18-24  i do not have a disability  High School   \n",
       "\n",
       "           employment     ethnicity  gender             income language  \\\n",
       "0  Employed Part time  non hispanic  female  $25,000 - $49,999     both   \n",
       "1  Employed Part time      hispanic    male  Less than $25,000  english   \n",
       "\n",
       "  marital_status             race    states        tone  \n",
       "0             na  native american   indiana  Persuasive  \n",
       "1         single            white  illinois    Original  "
      ]
     },
     "execution_count": 26,
     "metadata": {},
     "output_type": "execute_result"
    }
   ],
   "source": [
    "data.head(2)"
   ]
  },
  {
   "cell_type": "code",
   "execution_count": 24,
   "metadata": {},
   "outputs": [
    {
     "name": "stdout",
     "output_type": "stream",
     "text": [
      "              precision    recall  f1-score   support\n",
      "\n",
      "  Empathetic       1.00      1.00      1.00        39\n",
      "    Original       1.00      1.00      1.00        32\n",
      "  Persuasive       1.00      1.00      1.00        21\n",
      "    Simplier       1.00      1.00      1.00        28\n",
      "\n",
      "    accuracy                           1.00       120\n",
      "   macro avg       1.00      1.00      1.00       120\n",
      "weighted avg       1.00      1.00      1.00       120\n",
      "\n"
     ]
    }
   ],
   "source": [
    "X = encoded_data.copy()\n",
    "y = tones.copy()\n",
    "\n",
    "X_train, X_test, y_train, y_test = train_test_split(X, y, test_size=0.3, random_state=42)\n",
    "\n",
    "rf_model = RandomForestClassifier(n_estimators=100, random_state=42)\n",
    "rf_model.fit(X_train, y_train)\n",
    "\n",
    "y_pred = rf_model.predict(X_test)\n",
    "print(classification_report(y_test, y_pred))"
   ]
  },
  {
   "cell_type": "code",
   "execution_count": 25,
   "metadata": {},
   "outputs": [
    {
     "name": "stdout",
     "output_type": "stream",
     "text": [
      "Cross-Validation Scores: [1. 1. 1. 1. 1.]\n",
      "Mean Cross-Validation Score: 1.0\n"
     ]
    }
   ],
   "source": [
    "# Assuming rf_model is your Random Forest classifier\n",
    "scores = cross_val_score(rf_model, X, y, cv=5)  # 5-fold cross-validation\n",
    "print(f\"Cross-Validation Scores: {scores}\")\n",
    "print(f\"Mean Cross-Validation Score: {scores.mean()}\")"
   ]
  },
  {
   "cell_type": "code",
   "execution_count": null,
   "metadata": {},
   "outputs": [],
   "source": []
  }
 ],
 "metadata": {
  "kernelspec": {
   "display_name": "Python 3",
   "language": "python",
   "name": "python3"
  },
  "language_info": {
   "codemirror_mode": {
    "name": "ipython",
    "version": 3
   },
   "file_extension": ".py",
   "mimetype": "text/x-python",
   "name": "python",
   "nbconvert_exporter": "python",
   "pygments_lexer": "ipython3",
   "version": "3.10.0"
  }
 },
 "nbformat": 4,
 "nbformat_minor": 2
}
