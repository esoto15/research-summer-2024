{
 "cells": [
  {
   "cell_type": "code",
   "execution_count": 52,
   "metadata": {},
   "outputs": [],
   "source": [
    "import pandas as pd\n",
    "# pipeline\n",
    "from sklearn.preprocessing import OneHotEncoder\n",
    "from sklearn.compose import ColumnTransformer\n",
    "from sklearn.pipeline import Pipeline\n",
    "from sklearn.feature_selection import f_classif\n",
    "from sklearn.cluster import KMeans\n",
    "from sklearn.feature_selection import f_classif\n",
    "from sklearn.feature_selection import chi2\n",
    "from sklearn.feature_selection import RFE\n",
    "from sklearn.ensemble import RandomForestClassifier\n",
    "from sklearn.model_selection import train_test_split\n",
    "from sklearn.preprocessing import LabelEncoder\n"
   ]
  },
  {
   "cell_type": "code",
   "execution_count": 4,
   "metadata": {},
   "outputs": [],
   "source": [
    "df = pd.read_excel('datasets/FoodInsecurity_Hispanic_Demographics_Tone_Preferences_Dataset.xlsx')"
   ]
  },
  {
   "cell_type": "code",
   "execution_count": 48,
   "metadata": {},
   "outputs": [
    {
     "data": {
      "text/html": [
       "<div>\n",
       "<style scoped>\n",
       "    .dataframe tbody tr th:only-of-type {\n",
       "        vertical-align: middle;\n",
       "    }\n",
       "\n",
       "    .dataframe tbody tr th {\n",
       "        vertical-align: top;\n",
       "    }\n",
       "\n",
       "    .dataframe thead th {\n",
       "        text-align: right;\n",
       "    }\n",
       "</style>\n",
       "<table border=\"1\" class=\"dataframe\">\n",
       "  <thead>\n",
       "    <tr style=\"text-align: right;\">\n",
       "      <th></th>\n",
       "      <th>age</th>\n",
       "      <th>gender</th>\n",
       "      <th>ethnicity</th>\n",
       "      <th>race</th>\n",
       "      <th>education</th>\n",
       "      <th>marital_status</th>\n",
       "      <th>income</th>\n",
       "      <th>employment</th>\n",
       "      <th>language</th>\n",
       "      <th>disability</th>\n",
       "      <th>states</th>\n",
       "      <th>sample_1</th>\n",
       "      <th>sample_2</th>\n",
       "      <th>sample_3</th>\n",
       "      <th>sample_4</th>\n",
       "      <th>sample_5</th>\n",
       "      <th>sample_6</th>\n",
       "      <th>sample_7</th>\n",
       "      <th>sample_8</th>\n",
       "    </tr>\n",
       "  </thead>\n",
       "  <tbody>\n",
       "    <tr>\n",
       "      <th>0</th>\n",
       "      <td>45-54</td>\n",
       "      <td>female</td>\n",
       "      <td>non hispanic</td>\n",
       "      <td>native american</td>\n",
       "      <td>High School</td>\n",
       "      <td>na</td>\n",
       "      <td>$25,000 - $49,999</td>\n",
       "      <td>Employed Part time</td>\n",
       "      <td>both</td>\n",
       "      <td>i do not have a disability</td>\n",
       "      <td>indiana</td>\n",
       "      <td>Persuasive</td>\n",
       "      <td>Simplier</td>\n",
       "      <td>Empathetic</td>\n",
       "      <td>Persuasive</td>\n",
       "      <td>Original</td>\n",
       "      <td>Original</td>\n",
       "      <td>Persuasive</td>\n",
       "      <td>Original</td>\n",
       "    </tr>\n",
       "    <tr>\n",
       "      <th>1</th>\n",
       "      <td>18-24</td>\n",
       "      <td>male</td>\n",
       "      <td>hispanic</td>\n",
       "      <td>white</td>\n",
       "      <td>High School</td>\n",
       "      <td>single</td>\n",
       "      <td>Less than $25,000</td>\n",
       "      <td>Employed Part time</td>\n",
       "      <td>english</td>\n",
       "      <td>i do not have a disability</td>\n",
       "      <td>illinois</td>\n",
       "      <td>Original</td>\n",
       "      <td>Simplier</td>\n",
       "      <td>Empathetic</td>\n",
       "      <td>Simplier</td>\n",
       "      <td>Simplier</td>\n",
       "      <td>Original</td>\n",
       "      <td>Original</td>\n",
       "      <td>Persuasive</td>\n",
       "    </tr>\n",
       "  </tbody>\n",
       "</table>\n",
       "</div>"
      ],
      "text/plain": [
       "     age  gender     ethnicity             race    education marital_status  \\\n",
       "0  45-54  female  non hispanic  native american  High School             na   \n",
       "1  18-24    male      hispanic            white  High School         single   \n",
       "\n",
       "              income          employment language                  disability  \\\n",
       "0  $25,000 - $49,999  Employed Part time     both  i do not have a disability   \n",
       "1  Less than $25,000  Employed Part time  english  i do not have a disability   \n",
       "\n",
       "     states    sample_1  sample_2    sample_3    sample_4  sample_5  sample_6  \\\n",
       "0   indiana  Persuasive  Simplier  Empathetic  Persuasive  Original  Original   \n",
       "1  illinois    Original  Simplier  Empathetic    Simplier  Simplier  Original   \n",
       "\n",
       "     sample_7    sample_8  \n",
       "0  Persuasive    Original  \n",
       "1    Original  Persuasive  "
      ]
     },
     "execution_count": 48,
     "metadata": {},
     "output_type": "execute_result"
    }
   ],
   "source": [
    "df.head(2)"
   ]
  },
  {
   "cell_type": "code",
   "execution_count": 61,
   "metadata": {},
   "outputs": [],
   "source": [
    "df.drop('states', axis=1, inplace=True)"
   ]
  },
  {
   "cell_type": "markdown",
   "metadata": {},
   "source": [
    "### Reshape data"
   ]
  },
  {
   "cell_type": "code",
   "execution_count": 62,
   "metadata": {},
   "outputs": [],
   "source": [
    "melted = df.copy()\n",
    "id_vars = melted.columns.difference(['sample_1', 'sample_2', 'sample_3', 'sample_4', 'sample_5', 'sample_6', 'sample_7', 'sample_8'])\n",
    "# Melt dataframe\n",
    "melted_data = pd.melt(melted, id_vars=id_vars, value_vars=['sample_1', 'sample_2', 'sample_3', 'sample_4', 'sample_5', 'sample_6', 'sample_7', 'sample_8'],value_name='tone')\n",
    "melted_data.drop('variable',axis=1, inplace=True)"
   ]
  },
  {
   "cell_type": "markdown",
   "metadata": {},
   "source": [
    "## Method 1: Filter"
   ]
  },
  {
   "cell_type": "markdown",
   "metadata": {},
   "source": [
    "**Objective**: Combine the eight separate tone columns into a single column, allowing us to use this consolidated tone column as the target variable in our model."
   ]
  },
  {
   "cell_type": "code",
   "execution_count": 63,
   "metadata": {},
   "outputs": [],
   "source": [
    "X = melted_data.drop('tone', axis=1)\n",
    "y = melted_data['tone']"
   ]
  },
  {
   "cell_type": "code",
   "execution_count": 64,
   "metadata": {},
   "outputs": [],
   "source": [
    "# Apply LabelEncoder to categorical columns\n",
    "label_encoders = {}\n",
    "for column in X.select_dtypes(include=['object']).columns:\n",
    "    le = LabelEncoder()\n",
    "    X[column] = le.fit_transform(X[column])\n",
    "    label_encoders[column] = le"
   ]
  },
  {
   "cell_type": "code",
   "execution_count": 65,
   "metadata": {},
   "outputs": [],
   "source": [
    "# Apply OneHotEncoder to categorical columns\n",
    "encoder = OneHotEncoder(sparse_output=False, drop='first')\n",
    "X_encoded = encoder.fit_transform(X.select_dtypes(include=['object']))\n",
    "X_encoded_df = pd.DataFrame(X_encoded, columns=encoder.get_feature_names_out())\n",
    "X = pd.concat([X.drop(columns=X.select_dtypes(include=['object']).columns), X_encoded_df], axis=1)"
   ]
  },
  {
   "cell_type": "code",
   "execution_count": 66,
   "metadata": {},
   "outputs": [],
   "source": [
    "y = LabelEncoder().fit_transform(y)"
   ]
  },
  {
   "cell_type": "code",
   "execution_count": 100,
   "metadata": {},
   "outputs": [],
   "source": [
    "# Assuming X and y are now numeric\n",
    "F_values, p_values = f_classif(X, y)\n",
    "\n",
    "# Create a DataFrame to view results\n",
    "results = pd.DataFrame({\n",
    "    'Feature': X.columns,\n",
    "    'F-Value': F_values,\n",
    "    'P-Value': p_values\n",
    "})\n",
    "\n",
    "# Select features with significant p-values\n",
    "significant_features = results[results['P-Value'] < 0.18]"
   ]
  },
  {
   "cell_type": "code",
   "execution_count": 102,
   "metadata": {},
   "outputs": [
    {
     "data": {
      "text/html": [
       "<div>\n",
       "<style scoped>\n",
       "    .dataframe tbody tr th:only-of-type {\n",
       "        vertical-align: middle;\n",
       "    }\n",
       "\n",
       "    .dataframe tbody tr th {\n",
       "        vertical-align: top;\n",
       "    }\n",
       "\n",
       "    .dataframe thead th {\n",
       "        text-align: right;\n",
       "    }\n",
       "</style>\n",
       "<table border=\"1\" class=\"dataframe\">\n",
       "  <thead>\n",
       "    <tr style=\"text-align: right;\">\n",
       "      <th></th>\n",
       "      <th>Feature</th>\n",
       "      <th>F-Value</th>\n",
       "      <th>P-Value</th>\n",
       "    </tr>\n",
       "  </thead>\n",
       "  <tbody>\n",
       "    <tr>\n",
       "      <th>0</th>\n",
       "      <td>age</td>\n",
       "      <td>2.532329</td>\n",
       "      <td>0.056678</td>\n",
       "    </tr>\n",
       "    <tr>\n",
       "      <th>3</th>\n",
       "      <td>employment</td>\n",
       "      <td>1.720474</td>\n",
       "      <td>0.162207</td>\n",
       "    </tr>\n",
       "    <tr>\n",
       "      <th>8</th>\n",
       "      <td>marital_status</td>\n",
       "      <td>1.781128</td>\n",
       "      <td>0.150174</td>\n",
       "    </tr>\n",
       "  </tbody>\n",
       "</table>\n",
       "</div>"
      ],
      "text/plain": [
       "          Feature   F-Value   P-Value\n",
       "0             age  2.532329  0.056678\n",
       "3      employment  1.720474  0.162207\n",
       "8  marital_status  1.781128  0.150174"
      ]
     },
     "execution_count": 102,
     "metadata": {},
     "output_type": "execute_result"
    }
   ],
   "source": [
    "significant_features"
   ]
  },
  {
   "cell_type": "code",
   "execution_count": 104,
   "metadata": {},
   "outputs": [],
   "source": []
  },
  {
   "cell_type": "code",
   "execution_count": 105,
   "metadata": {},
   "outputs": [
    {
     "name": "stdout",
     "output_type": "stream",
     "text": [
      "          Feature  Chi2-Value   P-Value\n",
      "0             age    9.999206  0.018573\n",
      "1      disability    2.555113  0.465413\n",
      "2       education    2.335436  0.505766\n",
      "3      employment    8.880465  0.030923\n",
      "4       ethnicity    1.409831  0.703232\n",
      "5          gender    0.989650  0.803756\n",
      "6          income    3.950708  0.266836\n",
      "7        language    0.943562  0.814905\n",
      "8  marital_status    5.079575  0.166062\n",
      "9            race    2.597910  0.457856\n",
      "      Feature  Chi2-Value   P-Value\n",
      "0         age    9.999206  0.018573\n",
      "3  employment    8.880465  0.030923\n"
     ]
    }
   ],
   "source": [
    "\n",
    "# Apply Chi-Square test\n",
    "chi2_values, p_values = chi2(X, y)\n",
    "\n",
    "# Create a DataFrame to view results\n",
    "results = pd.DataFrame({\n",
    "    'Feature': X.columns,\n",
    "    'Chi2-Value': chi2_values,\n",
    "    'P-Value': p_values\n",
    "})\n",
    "\n",
    "# Display results\n",
    "print(results)\n",
    "\n",
    "# Select features with significant p-values\n",
    "significant_features = results[results['P-Value'] < 0.05]\n",
    "print()"
   ]
  },
  {
   "cell_type": "code",
   "execution_count": 107,
   "metadata": {},
   "outputs": [
    {
     "data": {
      "text/html": [
       "<div>\n",
       "<style scoped>\n",
       "    .dataframe tbody tr th:only-of-type {\n",
       "        vertical-align: middle;\n",
       "    }\n",
       "\n",
       "    .dataframe tbody tr th {\n",
       "        vertical-align: top;\n",
       "    }\n",
       "\n",
       "    .dataframe thead th {\n",
       "        text-align: right;\n",
       "    }\n",
       "</style>\n",
       "<table border=\"1\" class=\"dataframe\">\n",
       "  <thead>\n",
       "    <tr style=\"text-align: right;\">\n",
       "      <th></th>\n",
       "      <th>Feature</th>\n",
       "      <th>Chi2-Value</th>\n",
       "      <th>P-Value</th>\n",
       "    </tr>\n",
       "  </thead>\n",
       "  <tbody>\n",
       "    <tr>\n",
       "      <th>0</th>\n",
       "      <td>age</td>\n",
       "      <td>9.999206</td>\n",
       "      <td>0.018573</td>\n",
       "    </tr>\n",
       "    <tr>\n",
       "      <th>1</th>\n",
       "      <td>disability</td>\n",
       "      <td>2.555113</td>\n",
       "      <td>0.465413</td>\n",
       "    </tr>\n",
       "    <tr>\n",
       "      <th>2</th>\n",
       "      <td>education</td>\n",
       "      <td>2.335436</td>\n",
       "      <td>0.505766</td>\n",
       "    </tr>\n",
       "    <tr>\n",
       "      <th>3</th>\n",
       "      <td>employment</td>\n",
       "      <td>8.880465</td>\n",
       "      <td>0.030923</td>\n",
       "    </tr>\n",
       "    <tr>\n",
       "      <th>4</th>\n",
       "      <td>ethnicity</td>\n",
       "      <td>1.409831</td>\n",
       "      <td>0.703232</td>\n",
       "    </tr>\n",
       "    <tr>\n",
       "      <th>5</th>\n",
       "      <td>gender</td>\n",
       "      <td>0.989650</td>\n",
       "      <td>0.803756</td>\n",
       "    </tr>\n",
       "    <tr>\n",
       "      <th>6</th>\n",
       "      <td>income</td>\n",
       "      <td>3.950708</td>\n",
       "      <td>0.266836</td>\n",
       "    </tr>\n",
       "    <tr>\n",
       "      <th>7</th>\n",
       "      <td>language</td>\n",
       "      <td>0.943562</td>\n",
       "      <td>0.814905</td>\n",
       "    </tr>\n",
       "    <tr>\n",
       "      <th>8</th>\n",
       "      <td>marital_status</td>\n",
       "      <td>5.079575</td>\n",
       "      <td>0.166062</td>\n",
       "    </tr>\n",
       "    <tr>\n",
       "      <th>9</th>\n",
       "      <td>race</td>\n",
       "      <td>2.597910</td>\n",
       "      <td>0.457856</td>\n",
       "    </tr>\n",
       "  </tbody>\n",
       "</table>\n",
       "</div>"
      ],
      "text/plain": [
       "          Feature  Chi2-Value   P-Value\n",
       "0             age    9.999206  0.018573\n",
       "1      disability    2.555113  0.465413\n",
       "2       education    2.335436  0.505766\n",
       "3      employment    8.880465  0.030923\n",
       "4       ethnicity    1.409831  0.703232\n",
       "5          gender    0.989650  0.803756\n",
       "6          income    3.950708  0.266836\n",
       "7        language    0.943562  0.814905\n",
       "8  marital_status    5.079575  0.166062\n",
       "9            race    2.597910  0.457856"
      ]
     },
     "execution_count": 107,
     "metadata": {},
     "output_type": "execute_result"
    }
   ],
   "source": [
    "results"
   ]
  },
  {
   "cell_type": "code",
   "execution_count": 106,
   "metadata": {},
   "outputs": [
    {
     "data": {
      "text/html": [
       "<div>\n",
       "<style scoped>\n",
       "    .dataframe tbody tr th:only-of-type {\n",
       "        vertical-align: middle;\n",
       "    }\n",
       "\n",
       "    .dataframe tbody tr th {\n",
       "        vertical-align: top;\n",
       "    }\n",
       "\n",
       "    .dataframe thead th {\n",
       "        text-align: right;\n",
       "    }\n",
       "</style>\n",
       "<table border=\"1\" class=\"dataframe\">\n",
       "  <thead>\n",
       "    <tr style=\"text-align: right;\">\n",
       "      <th></th>\n",
       "      <th>Feature</th>\n",
       "      <th>Chi2-Value</th>\n",
       "      <th>P-Value</th>\n",
       "    </tr>\n",
       "  </thead>\n",
       "  <tbody>\n",
       "    <tr>\n",
       "      <th>0</th>\n",
       "      <td>age</td>\n",
       "      <td>9.999206</td>\n",
       "      <td>0.018573</td>\n",
       "    </tr>\n",
       "    <tr>\n",
       "      <th>3</th>\n",
       "      <td>employment</td>\n",
       "      <td>8.880465</td>\n",
       "      <td>0.030923</td>\n",
       "    </tr>\n",
       "  </tbody>\n",
       "</table>\n",
       "</div>"
      ],
      "text/plain": [
       "      Feature  Chi2-Value   P-Value\n",
       "0         age    9.999206  0.018573\n",
       "3  employment    8.880465  0.030923"
      ]
     },
     "execution_count": 106,
     "metadata": {},
     "output_type": "execute_result"
    }
   ],
   "source": [
    "significant_features"
   ]
  },
  {
   "cell_type": "code",
   "execution_count": 115,
   "metadata": {},
   "outputs": [],
   "source": [
    "# Use the significant features for clustering\n",
    "X_significant = X[significant_features['Feature']]\n",
    "\n",
    "# Apply clustering algorithm\n",
    "kmeans = KMeans(n_clusters=3, n_init=10)\n",
    "clusters = kmeans.fit_predict(X_significant)"
   ]
  },
  {
   "cell_type": "code",
   "execution_count": 110,
   "metadata": {},
   "outputs": [
    {
     "name": "stdout",
     "output_type": "stream",
     "text": [
      "Chi2 Stat: 424.2022792022792, P-Value: 2.8150726747636976e-83\n"
     ]
    }
   ],
   "source": [
    "# Create a contingency table\n",
    "contingency_table = pd.crosstab(clusters, X['age'])\n",
    "\n",
    "# Perform Chi-Square test\n",
    "chi2_stat, p_val, dof, expected = chi2_contingency(contingency_table)\n",
    "\n",
    "print(f\"Chi2 Stat: {chi2_stat}, P-Value: {p_val}\")\n",
    "\n",
    "\n",
    "\n"
   ]
  },
  {
   "cell_type": "markdown",
   "metadata": {},
   "source": [
    "## Method 2: Recursive Feature Elimination"
   ]
  },
  {
   "cell_type": "markdown",
   "metadata": {},
   "source": [
    "### Pipeline"
   ]
  },
  {
   "cell_type": "code",
   "execution_count": 35,
   "metadata": {},
   "outputs": [],
   "source": [
    "categorical_features = X.select_dtypes(include=['object']).columns"
   ]
  },
  {
   "cell_type": "code",
   "execution_count": 36,
   "metadata": {},
   "outputs": [],
   "source": [
    "preprocessor = ColumnTransformer(\n",
    "    transformers=[\n",
    "        ('cat', OneHotEncoder(), categorical_features)\n",
    "    ],\n",
    "    remainder='passthrough'\n",
    ")"
   ]
  },
  {
   "cell_type": "code",
   "execution_count": 37,
   "metadata": {},
   "outputs": [],
   "source": [
    "X_encoded = preprocessor.fit_transform(X)"
   ]
  },
  {
   "cell_type": "code",
   "execution_count": 38,
   "metadata": {},
   "outputs": [],
   "source": [
    "le = LabelEncoder()\n",
    "y_encoded = le.fit_transform(y)"
   ]
  },
  {
   "cell_type": "code",
   "execution_count": 39,
   "metadata": {},
   "outputs": [
    {
     "name": "stdout",
     "output_type": "stream",
     "text": [
      "Selected features: ['cat__age_25-34' 'cat__education_Associate'\n",
      " 'cat__employment_Employed Part time' 'cat__gender_female'\n",
      " 'cat__income_$25,000 - $49,999' 'cat__language_english'\n",
      " 'cat__marital_status_married' 'cat__race_white' 'cat__states_illinois'\n",
      " 'cat__states_new jersey']\n"
     ]
    }
   ],
   "source": [
    "model = RandomForestClassifier(n_estimators=100, random_state=42)\n",
    "rfe = RFE(estimator=model, n_features_to_select=10)  # Adjust as needed\n",
    "\n",
    "# Fit RFE\n",
    "rfe.fit(X_encoded, y_encoded)\n",
    "\n",
    "# Get selected features\n",
    "feature_names = preprocessor.get_feature_names_out()\n",
    "selected_features = feature_names[rfe.support_]\n",
    "print(\"Selected features:\", selected_features)"
   ]
  },
  {
   "cell_type": "code",
   "execution_count": 43,
   "metadata": {},
   "outputs": [],
   "source": [
    "# Encode categorical variables\n",
    "le = LabelEncoder()\n",
    "df_encoded = melted_data.apply(le.fit_transform)\n",
    "\n",
    "# Separate features and target\n",
    "X = df_encoded.drop(columns=['tone'])\n",
    "y = df_encoded['tone']\n",
    "\n",
    "# Split data into training and testing sets\n",
    "X_train, X_test, y_train, y_test = train_test_split(X, y, test_size=0.3, random_state=42)"
   ]
  },
  {
   "cell_type": "code",
   "execution_count": 103,
   "metadata": {},
   "outputs": [
    {
     "name": "stdout",
     "output_type": "stream",
     "text": [
      "Feature ranking:\n",
      "age: 10\n",
      "disability: 1\n",
      "education: 8\n",
      "employment: 4\n",
      "ethnicity: 2\n",
      "gender: 3\n",
      "income: 5\n",
      "language: 7\n",
      "marital_status: 9\n",
      "race: 11\n"
     ]
    },
    {
     "ename": "IndexError",
     "evalue": "boolean index did not match indexed array along dimension 0; dimension is 10 but corresponding boolean dimension is 11",
     "output_type": "error",
     "traceback": [
      "\u001b[1;31m---------------------------------------------------------------------------\u001b[0m",
      "\u001b[1;31mIndexError\u001b[0m                                Traceback (most recent call last)",
      "Cell \u001b[1;32mIn[103], line 23\u001b[0m\n\u001b[0;32m     20\u001b[0m     \u001b[38;5;28mprint\u001b[39m(\u001b[38;5;124mf\u001b[39m\u001b[38;5;124m\"\u001b[39m\u001b[38;5;132;01m{\u001b[39;00mfeature_names[i]\u001b[38;5;132;01m}\u001b[39;00m\u001b[38;5;124m: \u001b[39m\u001b[38;5;132;01m{\u001b[39;00mranking[i]\u001b[38;5;132;01m}\u001b[39;00m\u001b[38;5;124m\"\u001b[39m)\n\u001b[0;32m     22\u001b[0m \u001b[38;5;66;03m# Select features with rank 1 (most significant)\u001b[39;00m\n\u001b[1;32m---> 23\u001b[0m selected_features \u001b[38;5;241m=\u001b[39m \u001b[43mfeature_names\u001b[49m\u001b[43m[\u001b[49m\u001b[43mrfe\u001b[49m\u001b[38;5;241;43m.\u001b[39;49m\u001b[43msupport_\u001b[49m\u001b[43m]\u001b[49m\n\u001b[0;32m     24\u001b[0m \u001b[38;5;28mprint\u001b[39m(\u001b[38;5;124m\"\u001b[39m\u001b[38;5;124mSelected features:\u001b[39m\u001b[38;5;124m\"\u001b[39m, selected_features)\n",
      "File \u001b[1;32mc:\\Users\\Owner\\AppData\\Local\\Programs\\Python\\Python310\\lib\\site-packages\\pandas\\core\\indexes\\base.py:5382\u001b[0m, in \u001b[0;36mIndex.__getitem__\u001b[1;34m(self, key)\u001b[0m\n\u001b[0;32m   5379\u001b[0m     \u001b[38;5;28;01melse\u001b[39;00m:\n\u001b[0;32m   5380\u001b[0m         key \u001b[38;5;241m=\u001b[39m np\u001b[38;5;241m.\u001b[39masarray(key, dtype\u001b[38;5;241m=\u001b[39m\u001b[38;5;28mbool\u001b[39m)\n\u001b[1;32m-> 5382\u001b[0m result \u001b[38;5;241m=\u001b[39m \u001b[43mgetitem\u001b[49m\u001b[43m(\u001b[49m\u001b[43mkey\u001b[49m\u001b[43m)\u001b[49m\n\u001b[0;32m   5383\u001b[0m \u001b[38;5;66;03m# Because we ruled out integer above, we always get an arraylike here\u001b[39;00m\n\u001b[0;32m   5384\u001b[0m \u001b[38;5;28;01mif\u001b[39;00m result\u001b[38;5;241m.\u001b[39mndim \u001b[38;5;241m>\u001b[39m \u001b[38;5;241m1\u001b[39m:\n",
      "\u001b[1;31mIndexError\u001b[0m: boolean index did not match indexed array along dimension 0; dimension is 10 but corresponding boolean dimension is 11"
     ]
    }
   ],
   "source": [
    "# Initialize the Logistic Regression model\n",
    "model = LogisticRegression(max_iter=1000)\n",
    "\n",
    "# Initialize RFE with the model and set the number of features to select\n",
    "rfe = RFE(estimator=model, n_features_to_select=1)\n",
    "\n",
    "# Fit RFE\n",
    "rfe.fit(X_train, y_train)\n",
    "\n",
    "# Get ranking of features\n",
    "ranking = rfe.ranking_\n",
    "feature_names = X.columns\n",
    "\n",
    "# Print feature ranking\n",
    "print(\"Feature ranking:\")\n",
    "for i in range(len(feature_names)):\n",
    "    print(f\"{feature_names[i]}: {ranking[i]}\")\n",
    "\n",
    "# Select features with rank 1 (most significant)\n",
    "selected_features = feature_names[rfe.support_]\n",
    "print(\"Selected features:\", selected_features)"
   ]
  }
 ],
 "metadata": {
  "kernelspec": {
   "display_name": "Python 3",
   "language": "python",
   "name": "python3"
  },
  "language_info": {
   "codemirror_mode": {
    "name": "ipython",
    "version": 3
   },
   "file_extension": ".py",
   "mimetype": "text/x-python",
   "name": "python",
   "nbconvert_exporter": "python",
   "pygments_lexer": "ipython3",
   "version": "3.10.0"
  }
 },
 "nbformat": 4,
 "nbformat_minor": 2
}
