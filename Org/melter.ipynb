{
 "cells": [
  {
   "cell_type": "markdown",
   "metadata": {},
   "source": [
    "**Description**: This notebook is designed to take a clustered dataset and create its melted version for visualization purposes. The primary goal is to transform the wide-format dataset into a long-format version, which is essential for various types of data visualizations.\n",
    "\n",
    "The notebook begins by loading the clustered dataset and ensuring it is properly formatted. The melting process involves converting the dataset from a wide format, where each variable is in a separate column, to a long format, where variables are stored as key-value pairs. This transformation is particularly useful for creating plots and charts that require a tidy data structure, such as those used in libraries like Seaborn and Matplotlib.\n",
    "\n",
    "By melting the dataset, each observation is reshaped into a more flexible format that facilitates the creation of comprehensive and insightful visualizations. This allows for a better understanding of the data distribution and patterns within each cluster. The resulting long-format dataset can be easily used to generate various visualizations, such as bar plots, line charts, and heatmaps, providing a clear and concise representation of the data.\n",
    "\n",
    "Overall, this notebook serves as a tool for transforming clustered datasets into a format that enhances visualization capabilities, making it easier to interpret and present the data effectively."
   ]
  },
  {
   "cell_type": "code",
   "execution_count": 1,
   "metadata": {},
   "outputs": [],
   "source": [
    "import pandas as pd"
   ]
  },
  {
   "cell_type": "code",
   "execution_count": 2,
   "metadata": {},
   "outputs": [],
   "source": [
    "original = pd.read_excel('datasets/FoodInsecurity_Hispanic_Demographics_Tone_Preferences_Dataset.xlsx')"
   ]
  },
  {
   "cell_type": "code",
   "execution_count": 3,
   "metadata": {},
   "outputs": [
    {
     "data": {
      "text/html": [
       "<div>\n",
       "<style scoped>\n",
       "    .dataframe tbody tr th:only-of-type {\n",
       "        vertical-align: middle;\n",
       "    }\n",
       "\n",
       "    .dataframe tbody tr th {\n",
       "        vertical-align: top;\n",
       "    }\n",
       "\n",
       "    .dataframe thead th {\n",
       "        text-align: right;\n",
       "    }\n",
       "</style>\n",
       "<table border=\"1\" class=\"dataframe\">\n",
       "  <thead>\n",
       "    <tr style=\"text-align: right;\">\n",
       "      <th></th>\n",
       "      <th>age</th>\n",
       "      <th>gender</th>\n",
       "      <th>ethnicity</th>\n",
       "      <th>race</th>\n",
       "      <th>education</th>\n",
       "      <th>marital_status</th>\n",
       "      <th>income</th>\n",
       "      <th>employment</th>\n",
       "      <th>language</th>\n",
       "      <th>disability</th>\n",
       "      <th>states</th>\n",
       "      <th>sample_1</th>\n",
       "      <th>sample_2</th>\n",
       "      <th>sample_3</th>\n",
       "      <th>sample_4</th>\n",
       "      <th>sample_5</th>\n",
       "      <th>sample_6</th>\n",
       "      <th>sample_7</th>\n",
       "      <th>sample_8</th>\n",
       "    </tr>\n",
       "  </thead>\n",
       "  <tbody>\n",
       "    <tr>\n",
       "      <th>0</th>\n",
       "      <td>45-54</td>\n",
       "      <td>female</td>\n",
       "      <td>non hispanic</td>\n",
       "      <td>native american</td>\n",
       "      <td>High School</td>\n",
       "      <td>na</td>\n",
       "      <td>$25,000 - $49,999</td>\n",
       "      <td>Employed Part time</td>\n",
       "      <td>both</td>\n",
       "      <td>i do not have a disability</td>\n",
       "      <td>indiana</td>\n",
       "      <td>Persuasive</td>\n",
       "      <td>Simplier</td>\n",
       "      <td>Empathetic</td>\n",
       "      <td>Persuasive</td>\n",
       "      <td>Original</td>\n",
       "      <td>Original</td>\n",
       "      <td>Persuasive</td>\n",
       "      <td>Original</td>\n",
       "    </tr>\n",
       "    <tr>\n",
       "      <th>1</th>\n",
       "      <td>18-24</td>\n",
       "      <td>male</td>\n",
       "      <td>hispanic</td>\n",
       "      <td>white</td>\n",
       "      <td>High School</td>\n",
       "      <td>single</td>\n",
       "      <td>Less than $25,000</td>\n",
       "      <td>Employed Part time</td>\n",
       "      <td>english</td>\n",
       "      <td>i do not have a disability</td>\n",
       "      <td>illinois</td>\n",
       "      <td>Original</td>\n",
       "      <td>Simplier</td>\n",
       "      <td>Empathetic</td>\n",
       "      <td>Simplier</td>\n",
       "      <td>Simplier</td>\n",
       "      <td>Original</td>\n",
       "      <td>Original</td>\n",
       "      <td>Persuasive</td>\n",
       "    </tr>\n",
       "  </tbody>\n",
       "</table>\n",
       "</div>"
      ],
      "text/plain": [
       "     age  gender     ethnicity             race    education marital_status  \\\n",
       "0  45-54  female  non hispanic  native american  High School             na   \n",
       "1  18-24    male      hispanic            white  High School         single   \n",
       "\n",
       "              income          employment language                  disability  \\\n",
       "0  $25,000 - $49,999  Employed Part time     both  i do not have a disability   \n",
       "1  Less than $25,000  Employed Part time  english  i do not have a disability   \n",
       "\n",
       "     states    sample_1  sample_2    sample_3    sample_4  sample_5  sample_6  \\\n",
       "0   indiana  Persuasive  Simplier  Empathetic  Persuasive  Original  Original   \n",
       "1  illinois    Original  Simplier  Empathetic    Simplier  Simplier  Original   \n",
       "\n",
       "     sample_7    sample_8  \n",
       "0  Persuasive    Original  \n",
       "1    Original  Persuasive  "
      ]
     },
     "execution_count": 3,
     "metadata": {},
     "output_type": "execute_result"
    }
   ],
   "source": [
    "original.head(2)"
   ]
  },
  {
   "cell_type": "code",
   "execution_count": 4,
   "metadata": {},
   "outputs": [
    {
     "data": {
      "text/plain": [
       "Index(['age', 'gender', 'ethnicity', 'race', 'education', 'marital_status',\n",
       "       'income', 'employment', 'language', 'disability', 'states', 'sample_1',\n",
       "       'sample_2', 'sample_3', 'sample_4', 'sample_5', 'sample_6', 'sample_7',\n",
       "       'sample_8'],\n",
       "      dtype='object')"
      ]
     },
     "execution_count": 4,
     "metadata": {},
     "output_type": "execute_result"
    }
   ],
   "source": [
    "original.columns"
   ]
  },
  {
   "cell_type": "code",
   "execution_count": 5,
   "metadata": {},
   "outputs": [],
   "source": [
    "tones = original[['sample_1','sample_2', 'sample_3', 'sample_4', 'sample_5', 'sample_6', 'sample_7','sample_8']]"
   ]
  },
  {
   "cell_type": "code",
   "execution_count": 6,
   "metadata": {},
   "outputs": [
    {
     "data": {
      "text/html": [
       "<div>\n",
       "<style scoped>\n",
       "    .dataframe tbody tr th:only-of-type {\n",
       "        vertical-align: middle;\n",
       "    }\n",
       "\n",
       "    .dataframe tbody tr th {\n",
       "        vertical-align: top;\n",
       "    }\n",
       "\n",
       "    .dataframe thead th {\n",
       "        text-align: right;\n",
       "    }\n",
       "</style>\n",
       "<table border=\"1\" class=\"dataframe\">\n",
       "  <thead>\n",
       "    <tr style=\"text-align: right;\">\n",
       "      <th></th>\n",
       "      <th>sample_1</th>\n",
       "      <th>sample_2</th>\n",
       "      <th>sample_3</th>\n",
       "      <th>sample_4</th>\n",
       "      <th>sample_5</th>\n",
       "      <th>sample_6</th>\n",
       "      <th>sample_7</th>\n",
       "      <th>sample_8</th>\n",
       "    </tr>\n",
       "  </thead>\n",
       "  <tbody>\n",
       "    <tr>\n",
       "      <th>0</th>\n",
       "      <td>Persuasive</td>\n",
       "      <td>Simplier</td>\n",
       "      <td>Empathetic</td>\n",
       "      <td>Persuasive</td>\n",
       "      <td>Original</td>\n",
       "      <td>Original</td>\n",
       "      <td>Persuasive</td>\n",
       "      <td>Original</td>\n",
       "    </tr>\n",
       "    <tr>\n",
       "      <th>1</th>\n",
       "      <td>Original</td>\n",
       "      <td>Simplier</td>\n",
       "      <td>Empathetic</td>\n",
       "      <td>Simplier</td>\n",
       "      <td>Simplier</td>\n",
       "      <td>Original</td>\n",
       "      <td>Original</td>\n",
       "      <td>Persuasive</td>\n",
       "    </tr>\n",
       "  </tbody>\n",
       "</table>\n",
       "</div>"
      ],
      "text/plain": [
       "     sample_1  sample_2    sample_3    sample_4  sample_5  sample_6  \\\n",
       "0  Persuasive  Simplier  Empathetic  Persuasive  Original  Original   \n",
       "1    Original  Simplier  Empathetic    Simplier  Simplier  Original   \n",
       "\n",
       "     sample_7    sample_8  \n",
       "0  Persuasive    Original  \n",
       "1    Original  Persuasive  "
      ]
     },
     "execution_count": 6,
     "metadata": {},
     "output_type": "execute_result"
    }
   ],
   "source": [
    "tones.head(2)"
   ]
  },
  {
   "cell_type": "markdown",
   "metadata": {},
   "source": [
    "## PCA"
   ]
  },
  {
   "cell_type": "code",
   "execution_count": 12,
   "metadata": {},
   "outputs": [],
   "source": [
    "df = pd.read_excel('datasets/pca-dem-clusters.xlsx')"
   ]
  },
  {
   "cell_type": "code",
   "execution_count": 13,
   "metadata": {},
   "outputs": [],
   "source": [
    "df[['sample_1','sample_2', 'sample_3', 'sample_4', 'sample_5', 'sample_6', 'sample_7','sample_8']] = tones"
   ]
  },
  {
   "cell_type": "code",
   "execution_count": 14,
   "metadata": {},
   "outputs": [],
   "source": [
    "id_vars = df.columns.difference(['sample_1', 'sample_2', 'sample_3', 'sample_4', 'sample_5', 'sample_6', 'sample_7', 'sample_8'])"
   ]
  },
  {
   "cell_type": "code",
   "execution_count": 15,
   "metadata": {},
   "outputs": [],
   "source": [
    "# Melt dataframe\n",
    "pca_graphs = pd.melt(df, id_vars=id_vars, value_vars=['sample_1', 'sample_2', 'sample_3', 'sample_4', 'sample_5', 'sample_6', 'sample_7', 'sample_8'],value_name='tone')\n",
    "pca_graphs.drop('variable',axis=1, inplace=True)"
   ]
  },
  {
   "cell_type": "code",
   "execution_count": 16,
   "metadata": {},
   "outputs": [],
   "source": [
    "pca_graphs.to_excel('datasets/pca-dem-clusters.xlsx')"
   ]
  },
  {
   "cell_type": "markdown",
   "metadata": {},
   "source": [
    "## TSNE"
   ]
  },
  {
   "cell_type": "code",
   "execution_count": 17,
   "metadata": {},
   "outputs": [],
   "source": [
    "df_tsne = pd.read_excel('datasets/tsne-dem-clusters.xlsx')"
   ]
  },
  {
   "cell_type": "code",
   "execution_count": 18,
   "metadata": {},
   "outputs": [],
   "source": [
    "df_tsne[['sample_1','sample_2', 'sample_3', 'sample_4', 'sample_5', 'sample_6', 'sample_7','sample_8']] = tones"
   ]
  },
  {
   "cell_type": "code",
   "execution_count": 19,
   "metadata": {},
   "outputs": [],
   "source": [
    "id_vars = df_tsne.columns.difference(['sample_1', 'sample_2', 'sample_3', 'sample_4', 'sample_5', 'sample_6', 'sample_7', 'sample_8'])"
   ]
  },
  {
   "cell_type": "code",
   "execution_count": 20,
   "metadata": {},
   "outputs": [],
   "source": [
    "# Melt dataframe\n",
    "tsne_graphs = pd.melt(df_tsne, id_vars=id_vars, value_vars=['sample_1', 'sample_2', 'sample_3', 'sample_4', 'sample_5', 'sample_6', 'sample_7', 'sample_8'],value_name='tone')\n",
    "tsne_graphs.drop('variable',axis=1, inplace=True)"
   ]
  },
  {
   "cell_type": "code",
   "execution_count": 21,
   "metadata": {},
   "outputs": [],
   "source": [
    "tsne_graphs.to_excel('datasets/tsne-dem-clusters.xlsx', index=False)"
   ]
  },
  {
   "cell_type": "markdown",
   "metadata": {},
   "source": [
    "## UMAP"
   ]
  },
  {
   "cell_type": "code",
   "execution_count": 22,
   "metadata": {},
   "outputs": [],
   "source": [
    "df_umap = pd.read_excel('datasets/umap-dem-clusters.xlsx')"
   ]
  },
  {
   "cell_type": "code",
   "execution_count": 23,
   "metadata": {},
   "outputs": [],
   "source": [
    "df_umap[['sample_1','sample_2', 'sample_3', 'sample_4', 'sample_5', 'sample_6', 'sample_7','sample_8']] = tones"
   ]
  },
  {
   "cell_type": "code",
   "execution_count": 24,
   "metadata": {},
   "outputs": [],
   "source": [
    "id_vars = df_umap.columns.difference(['sample_1', 'sample_2', 'sample_3', 'sample_4', 'sample_5', 'sample_6', 'sample_7', 'sample_8'])"
   ]
  },
  {
   "cell_type": "code",
   "execution_count": 25,
   "metadata": {},
   "outputs": [],
   "source": [
    "# Melt dataframe\n",
    "umap_graphs = pd.melt(df_umap, id_vars=id_vars, value_vars=['sample_1', 'sample_2', 'sample_3', 'sample_4', 'sample_5', 'sample_6', 'sample_7', 'sample_8'],value_name='tone')\n",
    "umap_graphs.drop('variable',axis=1, inplace=True)"
   ]
  },
  {
   "cell_type": "code",
   "execution_count": 26,
   "metadata": {},
   "outputs": [],
   "source": [
    "umap_graphs.to_excel('datasets/umap-dem-clusters.xlsx', index=False)"
   ]
  },
  {
   "cell_type": "code",
   "execution_count": null,
   "metadata": {},
   "outputs": [],
   "source": []
  }
 ],
 "metadata": {
  "kernelspec": {
   "display_name": "Python 3",
   "language": "python",
   "name": "python3"
  },
  "language_info": {
   "codemirror_mode": {
    "name": "ipython",
    "version": 3
   },
   "file_extension": ".py",
   "mimetype": "text/x-python",
   "name": "python",
   "nbconvert_exporter": "python",
   "pygments_lexer": "ipython3",
   "version": "3.10.0"
  }
 },
 "nbformat": 4,
 "nbformat_minor": 2
}
